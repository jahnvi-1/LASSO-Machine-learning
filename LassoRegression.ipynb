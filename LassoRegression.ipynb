{
 "cells": [
  {
   "cell_type": "markdown",
   "id": "df5fcfeb",
   "metadata": {},
   "source": [
    "<b>Step 1: Loading the scikit-learn version of the diabetes dataset into using the load_diabetes function.</b>"
   ]
  },
  {
   "cell_type": "markdown",
   "id": "6c6c1129",
   "metadata": {},
   "source": [
    "Import diabetes dataset using sklearn.datasets in <b>diabetes</b>."
   ]
  },
  {
   "cell_type": "code",
   "execution_count": 65,
   "id": "14618a1e",
   "metadata": {},
   "outputs": [],
   "source": [
    "from sklearn.datasets import load_diabetes\n",
    "diabetes = load_diabetes()\n",
    "X = diabetes.data\n",
    "y = diabetes.target"
   ]
  },
  {
   "cell_type": "markdown",
   "id": "97d244ee",
   "metadata": {},
   "source": [
    "<b>Step 2: Spliting the dataset into the training and test sets.\n",
    "<br>Random state = 309</b>"
   ]
  },
  {
   "cell_type": "markdown",
   "id": "aaf9e734",
   "metadata": {},
   "source": [
    "Split the dataset using train_test_split and assign X_train, X_test, y_train, y_test values."
   ]
  },
  {
   "cell_type": "code",
   "execution_count": 66,
   "id": "ef22e6e9",
   "metadata": {},
   "outputs": [],
   "source": [
    "from sklearn.model_selection import train_test_split\n",
    "X_train, X_test, y_train, y_test = train_test_split(X, y, random_state = 309)"
   ]
  },
  {
   "cell_type": "markdown",
   "id": "0ce8bc6b",
   "metadata": {},
   "source": [
    "<b>Step 3: Training and test R<sup>2</sup> for the Lasso model.\n",
    "         <t><br> Features of the model that are being used.\n",
    "         <t><br> Names of the features. </b>"
   ]
  },
  {
   "cell_type": "code",
   "execution_count": 67,
   "id": "39ddf7f1",
   "metadata": {},
   "outputs": [
    {
     "name": "stdout",
     "output_type": "stream",
     "text": [
      "Training R²: 0.35511991243176455\n",
      "Test R²: 0.35802127221643487\n",
      "Total number of features: 3\n",
      "The features are:\n",
      "bmi\n",
      "bp\n",
      "s5\n"
     ]
    }
   ],
   "source": [
    "from sklearn.linear_model import Lasso\n",
    "import numpy as np\n",
    "\n",
    "lasso = Lasso().fit(X_train, y_train)\n",
    "r_square_train = lasso.score(X_train, y_train)\n",
    "r_square_test = lasso.score(X_test, y_test)\n",
    "\n",
    "print(f\"Training R\\u00b2: {r_square_train}\")\n",
    "print(f\"Test R\\u00b2: {r_square_test}\")\n",
    "\n",
    "total_features = np.sum(lasso.coef_ != 0)\n",
    "print(f\"Total number of features: {total_features}\")\n",
    "print(\"The features are:\")\n",
    "for i in range(len(lasso.coef_)):\n",
    "    if lasso.coef_[i] != 0:\n",
    "        print(diabetes.feature_names[i])"
   ]
  },
  {
   "cell_type": "markdown",
   "id": "ab1025eb",
   "metadata": {},
   "source": [
    "<b>Step 4: Loading the original diabetes dataset from the web page. </b>"
   ]
  },
  {
   "cell_type": "code",
   "execution_count": 68,
   "id": "10f198a8",
   "metadata": {},
   "outputs": [],
   "source": [
    "d_X = np.genfromtxt(\"< dummy path >\", usecols=np.arange(10), skip_header=1)\n",
    "d_y = np.genfromtxt(\"< dummy path >\", usecols=10, skip_header=1)"
   ]
  },
  {
   "cell_type": "markdown",
   "id": "6afa7746",
   "metadata": {},
   "source": [
    "<b>Step 5: Splitting the dataset into training and test set</b>"
   ]
  },
  {
   "cell_type": "code",
   "execution_count": 69,
   "id": "7545e512",
   "metadata": {},
   "outputs": [],
   "source": [
    "X_train, X_test, y_train, y_test = train_test_split(d_X, d_y, random_state=309)"
   ]
  },
  {
   "cell_type": "markdown",
   "id": "17c8783e",
   "metadata": {},
   "source": [
    "<b>Step 6: Training and test R<sup>2</sup> for the Lasso model.\n",
    "         <t><br> Features of the model that are being used.\n",
    "         <t><br> Names of the features. </b>"
   ]
  },
  {
   "cell_type": "code",
   "execution_count": 70,
   "id": "629eb2a2",
   "metadata": {},
   "outputs": [
    {
     "name": "stdout",
     "output_type": "stream",
     "text": [
      "Training R²: 0.5052460786655852\n",
      "Test R²: 0.5166778517260695\n",
      "Total number of features: 9\n",
      "The features are:\n",
      "age\n",
      "sex\n",
      "bmi\n",
      "bp\n",
      "s2\n",
      "s3\n",
      "s4\n",
      "s5\n",
      "s6\n"
     ]
    }
   ],
   "source": [
    "lasso = Lasso().fit(X_train, y_train)\n",
    "r_square_train = lasso.score(X_train, y_train)\n",
    "r_square_test = lasso.score(X_test, y_test)\n",
    "\n",
    "print(f\"Training R\\u00b2: {r_square_train}\")\n",
    "print(f\"Test R\\u00b2: {r_square_test}\")\n",
    "\n",
    "total_features = np.sum(lasso.coef_ != 0)\n",
    "print(f\"Total number of features: {total_features}\")\n",
    "print(\"The features are:\")\n",
    "for i in range(len(lasso.coef_)):\n",
    "    if lasso.coef_[i] != 0:\n",
    "        print(diabetes.feature_names[i])"
   ]
  },
  {
   "cell_type": "markdown",
   "id": "b0acd449",
   "metadata": {},
   "source": [
    "<b>Step 7: Using StandardScaler to preprocess the training and test sets in the same way and avoiding data snooping.</b>"
   ]
  },
  {
   "cell_type": "code",
   "execution_count": 71,
   "id": "e56c294b",
   "metadata": {},
   "outputs": [],
   "source": [
    "from sklearn.preprocessing import StandardScaler\n",
    "standard_sca = StandardScaler()\n",
    "\n",
    "standard_sca.fit(X_train)\n",
    "standard_sca.fit(X_test)\n",
    "\n",
    "X_train_sca = standard_sca.transform(X_train)\n",
    "X_test_sca = standard_sca.transform(X_test)"
   ]
  },
  {
   "cell_type": "markdown",
   "id": "f89814e1",
   "metadata": {},
   "source": [
    "<b>Step 8: Training and test R<sup>2</sup> for the Lasso model.\n",
    "         <t><br> Features of the model that are being used.\n",
    "         <t><br> Names of the features. </b>"
   ]
  },
  {
   "cell_type": "code",
   "execution_count": 72,
   "id": "46983e0b",
   "metadata": {},
   "outputs": [
    {
     "name": "stdout",
     "output_type": "stream",
     "text": [
      "Training R²: 0.5074980483618166\n",
      "Test R²: 0.521782851406597\n",
      "Total number of features: 9\n",
      "The features are:\n",
      "age\n",
      "sex\n",
      "bmi\n",
      "bp\n",
      "s1\n",
      "s3\n",
      "s4\n",
      "s5\n",
      "s6\n"
     ]
    }
   ],
   "source": [
    "lasso = Lasso().fit(X_train_sca, y_train)\n",
    "r_square_train_sca = lasso.score(X_train_sca, y_train)\n",
    "r_square_test_sca = lasso.score(X_test_sca, y_test)\n",
    "\n",
    "print(f\"Training R\\u00b2: {r_square_train_sca}\")\n",
    "print(f\"Test R\\u00b2: {r_square_test_sca}\")\n",
    "\n",
    "total_features = np.sum(lasso.coef_ != 0)\n",
    "print(f\"Total number of features: {total_features}\")\n",
    "print(\"The features are:\")\n",
    "for i in range(len(lasso.coef_)):\n",
    "    if lasso.coef_[i] != 0:\n",
    "        print(diabetes.feature_names[i])"
   ]
  },
  {
   "cell_type": "markdown",
   "id": "6064dbc0",
   "metadata": {},
   "source": [
    "The results are closer to those in item 6. \n",
    "Observations: The training and test set for item 3 is less than that in item 6 where original data was used, which is closer to the above results.\n",
    "    It has same number of features and similar R squares. Here, because of snooping, more errors have occurred."
   ]
  },
  {
   "cell_type": "markdown",
   "id": "4275b756",
   "metadata": {},
   "source": [
    "<b>Step 9: R square v/s Number of features plot.  </b>"
   ]
  },
  {
   "cell_type": "code",
   "execution_count": 73,
   "id": "74438dee",
   "metadata": {},
   "outputs": [
    {
     "data": {
      "image/png": "[encoded data removed]",
      "text/plain": [
       "<Figure size 432x288 with 1 Axes>"
      ]
     },
     "metadata": {
      "needs_background": "light"
     },
     "output_type": "display_data"
    }
   ],
   "source": [
    "import matplotlib.pyplot as plt\n",
    "alpha = list(np.arange(1,30,1))\n",
    "x = []\n",
    "y = []\n",
    "count = 0\n",
    "\n",
    "for i in alpha:\n",
    "    lasso = Lasso(alpha=i,max_iter=100000).fit(X_train_sca, y_train)\n",
    "    y.append(lasso.score(X_test_sca, y_test))\n",
    "    x.append(sum(lasso.coef_ != 0))\n",
    "    count=count+1\n",
    "\n",
    "plt.plot(x,y, marker = 'o')\n",
    "plt.xlabel('Features')\n",
    "plt.ylabel('Test R\\u00b2')\n",
    "plt.title('Features v/s R\\u00b2 plot')\n",
    "\n",
    "plt.grid()\n",
    "plt.show()"
   ]
  },
  {
   "cell_type": "markdown",
   "id": "dfaeded5",
   "metadata": {},
   "source": [
    "I prefer the point (6,0.51), that is, 6 features and 3 alpha. From this point, the graph has not showing much of an upward trend. The reason forselecting this value is because the greater the alpha's value, the increase will be less."
   ]
  },
  {
   "cell_type": "markdown",
   "id": "a706b563",
   "metadata": {},
   "source": [
    "<b> Step 10: Using cross-validation, choosing the regularization parameter for Lasso. Training the Lasso on the training set using the chosen values of the parameters</b>"
   ]
  },
  {
   "cell_type": "markdown",
   "id": "cb24653f",
   "metadata": {},
   "source": [
    "Create a function <b>max_find()</b> to find the maximum value of alpha."
   ]
  },
  {
   "cell_type": "code",
   "execution_count": 74,
   "id": "b5f665ef",
   "metadata": {},
   "outputs": [],
   "source": [
    "import math\n",
    "def max_find(x):\n",
    "    m = - math.inf\n",
    "    val = 0\n",
    "    for i in range (len(x)):\n",
    "        if x[i] > m:\n",
    "            m = x[i]\n",
    "            val = i\n",
    "    return val"
   ]
  },
  {
   "cell_type": "markdown",
   "id": "3e192e1d",
   "metadata": {},
   "source": [
    "Using <b>cross_val_score</b> find the value for best alpha."
   ]
  },
  {
   "cell_type": "code",
   "execution_count": 75,
   "id": "db8e0c25",
   "metadata": {},
   "outputs": [
    {
     "name": "stdout",
     "output_type": "stream",
     "text": [
      "Best alpha value: 0.214\n"
     ]
    }
   ],
   "source": [
    "from sklearn.model_selection import cross_val_score\n",
    "alpha = list(np.arange(0.1,3,0.001))\n",
    "res = np.empty(len(alpha))\n",
    "\n",
    "for i in range(len(alpha)):\n",
    "    lasso = Lasso(alpha=alpha[i])\n",
    "    res[i] = np.mean(cross_val_score(lasso, X_train_sca, y_train, cv=4))\n",
    "best_alpha = alpha[max_find(res)]\n",
    "print(f\"Best alpha value: {round(best_alpha,5)}\")   "
   ]
  },
  {
   "cell_type": "markdown",
   "id": "241bb970",
   "metadata": {},
   "source": [
    "Printing the training and test R square and number of features"
   ]
  },
  {
   "cell_type": "code",
   "execution_count": 76,
   "id": "605f23a5",
   "metadata": {},
   "outputs": [
    {
     "name": "stdout",
     "output_type": "stream",
     "text": [
      "Training R²: 0.5105258446925505\n",
      "Test R²: 0.5221817185182072\n",
      "Total number of features: 10\n",
      "The features are:\n",
      "age\n",
      "sex\n",
      "bmi\n",
      "bp\n",
      "s1\n",
      "s2\n",
      "s3\n",
      "s4\n",
      "s5\n",
      "s6\n"
     ]
    }
   ],
   "source": [
    "lasso = Lasso(alpha=best_alpha).fit(X_train_sca, y_train)\n",
    "r_square_train = lasso.score(X_train_sca, y_train)\n",
    "r_square_test = lasso.score(X_test_sca, y_test)\n",
    "\n",
    "print(f\"Training R\\u00b2: {r_square_train}\")\n",
    "print(f\"Test R\\u00b2: {r_square_test}\")\n",
    "\n",
    "total_features = np.sum(lasso.coef_ != 0)\n",
    "print(f\"Total number of features: {total_features}\")\n",
    "print(\"The features are:\")\n",
    "for i in range(len(lasso.coef_)):\n",
    "    if lasso.coef_[i] != 0:\n",
    "        print(diabetes.feature_names[i])"
   ]
  },
  {
   "cell_type": "markdown",
   "id": "fbe7784f",
   "metadata": {},
   "source": [
    "<b><u>Results</u></b><br><br>\n",
    "<b>Step 3:</b>\n",
    "- Training R square: 0.35511\n",
    "- Test R square: 0.35802\n",
    "- Features: 3\n",
    "\n",
    "<b>Step 6:</b>\n",
    "- Training R square: 0.50524\n",
    "- Test R square: 0.51667\n",
    "- Features: 9\n",
    "\n",
    "<b>Step 8:</b>\n",
    "- Training R square: 0.50749\n",
    "- Test R square: 0.52178\n",
    "- Features: 9\n",
    "\n",
    "<b>Step 10:</b>\n",
    "- Training R square: 0.51052\n",
    "- Test R square: 0.52218\n",
    "- Features: 10"
   ]
  },
  {
   "cell_type": "code",
   "execution_count": null,
   "id": "69cacae1",
   "metadata": {},
   "outputs": [],
   "source": []
  }
 ],
 "metadata": {
  "kernelspec": {
   "display_name": "Python 3 (ipykernel)",
   "language": "python",
   "name": "python3"
  },
  "language_info": {
   "codemirror_mode": {
    "name": "ipython",
    "version": 3
   },
   "file_extension": ".py",
   "mimetype": "text/x-python",
   "name": "python",
   "nbconvert_exporter": "python",
   "pygments_lexer": "ipython3",
   "version": "3.8.8"
  }
 },
 "nbformat": 4,
 "nbformat_minor": 5
}
